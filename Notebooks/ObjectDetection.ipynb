{
 "cells": [
  {
   "cell_type": "markdown",
   "id": "1ebffb0a",
   "metadata": {},
   "source": [
    "# Object Detection \n",
    "This notebook performs object detection on a dataset"
   ]
  }
 ],
 "metadata": {
  "language_info": {
   "name": "python"
  }
 },
 "nbformat": 4,
 "nbformat_minor": 5
}
